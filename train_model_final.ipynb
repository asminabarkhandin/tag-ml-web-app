{
 "cells": [
  {
   "cell_type": "code",
   "execution_count": 2,
   "id": "ae59575a-84fb-4858-ba77-988638782d3b",
   "metadata": {},
   "outputs": [],
   "source": [
    "import pandas as pd\n",
    "import seaborn as sns\n",
    "import matplotlib.pyplot as plt\n",
    "import sklearn\n",
    "\n",
    "from sklearn.preprocessing import StandardScaler\n",
    "from sklearn.model_selection import StratifiedKFold\n",
    "from statsmodels.stats.outliers_influence import variance_inflation_factor\n",
    "from sklearn.linear_model import LassoCV\n",
    "\n",
    "from sklearn.ensemble import RandomForestClassifier\n",
    "from sklearn.linear_model import LogisticRegression\n",
    "from sklearn.naive_bayes import MultinomialNB\n",
    "from sklearn.svm import SVC\n",
    "from sklearn.tree import DecisionTreeClassifier\n",
    "from sklearn.neighbors import KNeighborsClassifier\n",
    "from sklearn.model_selection import train_test_split\n",
    "from sklearn.pipeline import make_pipeline\n",
    "from sklearn.feature_extraction.text import TfidfVectorizer\n",
    "\n"
   ]
  },
  {
   "cell_type": "code",
   "execution_count": 3,
   "id": "b6040f26-8728-4158-995b-68aa835572e2",
   "metadata": {},
   "outputs": [],
   "source": [
    "data = pd.read_csv('reviews.csv')\n"
   ]
  },
  {
   "cell_type": "code",
   "execution_count": 4,
   "id": "2395d094-0549-418d-9d94-ae05ed45c9c9",
   "metadata": {},
   "outputs": [
    {
     "data": {
      "text/plain": [
       "(3572, 5)"
      ]
     },
     "execution_count": 4,
     "metadata": {},
     "output_type": "execute_result"
    }
   ],
   "source": [
    "data.shape"
   ]
  },
  {
   "cell_type": "code",
   "execution_count": 5,
   "id": "37157fec-9f20-4857-8e99-a317df68dc65",
   "metadata": {},
   "outputs": [
    {
     "data": {
      "text/plain": [
       "good       1541\n",
       "neutral    1118\n",
       "bad         913\n",
       "Name: status, dtype: int64"
      ]
     },
     "execution_count": 5,
     "metadata": {},
     "output_type": "execute_result"
    }
   ],
   "source": [
    "data.status.value_counts()"
   ]
  },
  {
   "cell_type": "code",
   "execution_count": 6,
   "id": "0be3ec4d-650b-4a7c-8b71-84734149e18f",
   "metadata": {},
   "outputs": [],
   "source": [
    "data=data.groupby('status',as_index = False,group_keys=False).apply(lambda s: s.sample(913,replace=True))"
   ]
  },
  {
   "cell_type": "code",
   "execution_count": 7,
   "id": "6b8ef4e9-31aa-4ecd-9537-af59fe0e55a4",
   "metadata": {},
   "outputs": [
    {
     "data": {
      "text/plain": [
       "bad        913\n",
       "good       913\n",
       "neutral    913\n",
       "Name: status, dtype: int64"
      ]
     },
     "execution_count": 7,
     "metadata": {},
     "output_type": "execute_result"
    }
   ],
   "source": [
    "data.status.value_counts()"
   ]
  },
  {
   "cell_type": "code",
   "execution_count": 8,
   "id": "96943425-84b7-4237-99d3-3a1307063b89",
   "metadata": {},
   "outputs": [],
   "source": [
    "from sklearn.utils import shuffle\n",
    "data = shuffle(data)"
   ]
  },
  {
   "cell_type": "code",
   "execution_count": 9,
   "id": "720cc079-4ce8-4ab8-a91f-9ec413f68721",
   "metadata": {},
   "outputs": [],
   "source": [
    "import nltk\n",
    "from nltk.corpus import stopwords\n",
    "from nltk.stem import WordNetLemmatizer, PorterStemmer\n",
    "import re\n",
    "from pymystem3 import Mystem\n",
    "from string import punctuation\n",
    "from nltk.stem.snowball import SnowballStemmer \n",
    "#Create lemmatizer and stopwords list\n",
    "mystem = Mystem() \n",
    "russian_stopwords = stopwords.words(\"russian\")\n",
    "\n",
    "#Preprocess function\n",
    "def preprocess_text(text):\n",
    "    text = (lambda f: re.sub(r'\\d|\\W', ' ', text))(text)\n",
    "    tokens = mystem.lemmatize(text.lower())\n",
    "    tokens = [token for token in tokens if token not in russian_stopwords\\\n",
    "              and token != \" \" \\\n",
    "              and token.strip() not in punctuation\\\n",
    "              and len(token) > 3]\n",
    "    text = \" \".join(tokens)\n",
    "    \n",
    "    return text\n",
    "\n",
    "\n",
    "data['review'] = [(lambda f: preprocess_text(text))(text) for text in data['review']]\n"
   ]
  },
  {
   "cell_type": "code",
   "execution_count": 10,
   "id": "d829d90f-3d08-440a-a5dd-a68c3dae3d0c",
   "metadata": {},
   "outputs": [],
   "source": [
    "X = data.review\n",
    "y = data.status"
   ]
  },
  {
   "cell_type": "code",
   "execution_count": 11,
   "id": "2a10e953-e870-4ae4-a066-665176445809",
   "metadata": {},
   "outputs": [],
   "source": [
    "from sklearn.model_selection import cross_val_score"
   ]
  },
  {
   "cell_type": "code",
   "execution_count": 31,
   "id": "7267710d-d9dc-4162-8170-f8ae5cd54113",
   "metadata": {},
   "outputs": [
    {
     "name": "stdout",
     "output_type": "stream",
     "text": [
      "SVM accuracy  0.7828467153284672\n"
     ]
    }
   ],
   "source": [
    "from sklearn import metrics \n",
    "x_train, x_test, y_train, y_test = train_test_split(X, y, test_size = 0.2, random_state=42)\n",
    "\n",
    "svm_mod = make_pipeline(TfidfVectorizer(), SVC(kernel='linear', probability=True))\n",
    "svm_mod.fit(x_train, y_train)\n",
    "pred_svm = svm_mod.predict(x_test)\n",
    "print(\"SVM accuracy \",metrics.accuracy_score(y_test, pred_svm))\n",
    "scores_svm = cross_val_score(svm_mod, X, y, cv=5, scoring='accuracy')\n"
   ]
  },
  {
   "cell_type": "code",
   "execution_count": 13,
   "id": "05be7bbe-f2cc-4d18-9711-ecf3061957dc",
   "metadata": {},
   "outputs": [
    {
     "data": {
      "text/plain": [
       "0.7747321154539024"
      ]
     },
     "execution_count": 13,
     "metadata": {},
     "output_type": "execute_result"
    }
   ],
   "source": [
    "svm_mean = scores_svm.mean()\n",
    "svm_mean"
   ]
  },
  {
   "cell_type": "code",
   "execution_count": 16,
   "id": "0b7eb773-1a87-4e6b-adbd-30d4f6e8523c",
   "metadata": {},
   "outputs": [
    {
     "name": "stdout",
     "output_type": "stream",
     "text": [
      "Logistic Regression accuracy 0.7718978102189781\n"
     ]
    },
    {
     "data": {
      "text/plain": [
       "0.7736365577336234"
      ]
     },
     "execution_count": 16,
     "metadata": {},
     "output_type": "execute_result"
    }
   ],
   "source": [
    "x_train, x_test, y_train, y_test = train_test_split(X, y, test_size = 0.2, random_state=42)\n",
    "log_model = make_pipeline(TfidfVectorizer(), LogisticRegression())\n",
    "log_model.fit(x_train, y_train)\n",
    "pred_log = log_model.predict(x_test)\n",
    "print('Logistic Regression accuracy', metrics.accuracy_score(y_test, pred_log))\n",
    "scores_log = cross_val_score(log_model, X, y, cv=5, scoring='accuracy')\n",
    "log_mean = scores_log.mean()\n",
    "log_mean"
   ]
  },
  {
   "cell_type": "code",
   "execution_count": 17,
   "id": "8c541a3c-9897-4552-8902-40ddfa06e09d",
   "metadata": {},
   "outputs": [
    {
     "name": "stdout",
     "output_type": "stream",
     "text": [
      "Naive Bayes accuracy 0.7572992700729927\n",
      "0.7462602917039192\n",
      "Decision Tree accuracy 0.6952554744525548\n",
      "0.6911161077676511\n"
     ]
    }
   ],
   "source": [
    "nb_model = make_pipeline(TfidfVectorizer(), MultinomialNB())\n",
    "nb_model.fit(x_train, y_train)\n",
    "pred_nb = nb_model.predict(x_test)\n",
    "scores_nb = cross_val_score(nb_model, X, y, cv=5, scoring='accuracy')\n",
    "nb_mean = scores_nb.mean()\n",
    "print('Naive Bayes accuracy', metrics.accuracy_score(y_test, pred_nb))\n",
    "print(nb_mean)\n",
    "\n",
    "tree = make_pipeline(TfidfVectorizer(), DecisionTreeClassifier())\n",
    "tree.fit(x_train,y_train)\n",
    "tree_pred = tree.predict(x_test)\n",
    "scores_tree = cross_val_score(tree, X, y, cv=5, scoring='accuracy')\n",
    "tree_mean = scores_tree.mean()\n",
    "tree_mean\n",
    "print('Decision Tree accuracy', metrics.accuracy_score(y_test, tree_pred))\n",
    "print(tree_mean)"
   ]
  },
  {
   "cell_type": "code",
   "execution_count": 18,
   "id": "231abec0-0e6d-408d-b830-002e41fb25fe",
   "metadata": {},
   "outputs": [
    {
     "name": "stdout",
     "output_type": "stream",
     "text": [
      "Maximum accuracy: 0.6988076969268338 at K = 1\n"
     ]
    },
    {
     "data": {
      "image/png": "[encoded data removed]",
      "text/plain": [
       "<Figure size 720x432 with 1 Axes>"
      ]
     },
     "metadata": {
      "needs_background": "light"
     },
     "output_type": "display_data"
    }
   ],
   "source": [
    "acc = []\n",
    "for k in range(1, 50):\n",
    "    knn = make_pipeline(TfidfVectorizer(), KNeighborsClassifier(n_neighbors=k))\n",
    "    scores_knn = cross_val_score(knn, X, y, cv=5, scoring='accuracy')\n",
    "    knn_mean = scores_knn.mean()\n",
    "    acc.append(knn_mean)\n",
    "    \n",
    "plt.figure(figsize=(10,6))\n",
    "plt.plot(range(1,50),acc,color = 'blue',linestyle='dashed', marker='o',markerfacecolor='red', markersize=10)\n",
    "plt.title('accuracy vs. K Value')\n",
    "plt.xlabel('K')\n",
    "plt.ylabel('Accuracy')\n",
    "print(\"Maximum accuracy:\",max(acc),\"at K =\",acc.index(max(acc))+1)"
   ]
  },
  {
   "cell_type": "code",
   "execution_count": 19,
   "id": "96a86ced-22c6-4e3b-b14c-104e9f3cb833",
   "metadata": {},
   "outputs": [
    {
     "name": "stdout",
     "output_type": "stream",
     "text": [
      "KNN accuracy 0.6916058394160584\n"
     ]
    },
    {
     "data": {
      "text/plain": [
       "0.6988076969268338"
      ]
     },
     "execution_count": 19,
     "metadata": {},
     "output_type": "execute_result"
    }
   ],
   "source": [
    "k = acc.index(max(acc))+1\n",
    "knn = make_pipeline(TfidfVectorizer(), KNeighborsClassifier(n_neighbors=k))\n",
    "knn.fit(x_train, y_train)\n",
    "pred_knn = knn.predict(x_test)\n",
    "scores_knn = cross_val_score(knn, X, y, cv=5, scoring='accuracy')\n",
    "knn_mean = scores_knn.mean()\n",
    "print('KNN accuracy', metrics.accuracy_score(y_test, pred_knn))\n",
    "knn_mean"
   ]
  },
  {
   "cell_type": "code",
   "execution_count": 23,
   "id": "813822a7-49af-44b1-9532-a4846435a275",
   "metadata": {},
   "outputs": [
    {
     "name": "stdout",
     "output_type": "stream",
     "text": [
      "Random Forest accuracy 0.7974452554744526\n"
     ]
    }
   ],
   "source": [
    "rf_model = make_pipeline(TfidfVectorizer(), RandomForestClassifier())\n",
    "rf_model.fit(x_train, y_train)\n",
    "pred_rf = rf_model.predict(x_test)\n",
    "print('Random Forest accuracy', metrics.accuracy_score(y_test, pred_rf))\n",
    "scores_rf = cross_val_score(rf_model, X, y, cv=5, scoring='accuracy')\n",
    "rf_mean = scores_rf.mean()\n"
   ]
  },
  {
   "cell_type": "code",
   "execution_count": 24,
   "id": "0e051d6b-d064-4012-815a-b755bed4f361",
   "metadata": {},
   "outputs": [
    {
     "data": {
      "text/plain": [
       "0.7696099494255328"
      ]
     },
     "execution_count": 24,
     "metadata": {},
     "output_type": "execute_result"
    }
   ],
   "source": [
    "rf_mean"
   ]
  },
  {
   "cell_type": "code",
   "execution_count": 30,
   "id": "7e8d8dd7-a334-4b1a-9efc-536ec6b6bebd",
   "metadata": {},
   "outputs": [
    {
     "data": {
      "text/html": [
       "<div>\n",
       "<style scoped>\n",
       "    .dataframe tbody tr th:only-of-type {\n",
       "        vertical-align: middle;\n",
       "    }\n",
       "\n",
       "    .dataframe tbody tr th {\n",
       "        vertical-align: top;\n",
       "    }\n",
       "\n",
       "    .dataframe thead th {\n",
       "        text-align: right;\n",
       "    }\n",
       "</style>\n",
       "<table border=\"1\" class=\"dataframe\">\n",
       "  <thead>\n",
       "    <tr style=\"text-align: right;\">\n",
       "      <th></th>\n",
       "      <th>Model</th>\n",
       "      <th>Accuracy</th>\n",
       "      <th>Precision</th>\n",
       "      <th>Recall</th>\n",
       "      <th>F1-meas.</th>\n",
       "    </tr>\n",
       "  </thead>\n",
       "  <tbody>\n",
       "    <tr>\n",
       "      <th>0</th>\n",
       "      <td>Logistic Regression</td>\n",
       "      <td>0.7736</td>\n",
       "      <td>0.7719</td>\n",
       "      <td>0.7719</td>\n",
       "      <td>0.7719</td>\n",
       "    </tr>\n",
       "    <tr>\n",
       "      <th>1</th>\n",
       "      <td>Naive Bayes</td>\n",
       "      <td>0.7463</td>\n",
       "      <td>0.7573</td>\n",
       "      <td>0.7573</td>\n",
       "      <td>0.7573</td>\n",
       "    </tr>\n",
       "    <tr>\n",
       "      <th>2</th>\n",
       "      <td>Support Vector Machine</td>\n",
       "      <td>0.7747</td>\n",
       "      <td>0.7828</td>\n",
       "      <td>0.7828</td>\n",
       "      <td>0.7828</td>\n",
       "    </tr>\n",
       "    <tr>\n",
       "      <th>3</th>\n",
       "      <td>K-Nearest Neighbor</td>\n",
       "      <td>0.6988</td>\n",
       "      <td>0.6916</td>\n",
       "      <td>0.6916</td>\n",
       "      <td>0.6916</td>\n",
       "    </tr>\n",
       "    <tr>\n",
       "      <th>4</th>\n",
       "      <td>Decision Tree</td>\n",
       "      <td>0.6911</td>\n",
       "      <td>0.6953</td>\n",
       "      <td>0.6953</td>\n",
       "      <td>0.6953</td>\n",
       "    </tr>\n",
       "    <tr>\n",
       "      <th>5</th>\n",
       "      <td>Random Forest</td>\n",
       "      <td>0.7696</td>\n",
       "      <td>0.7974</td>\n",
       "      <td>0.7974</td>\n",
       "      <td>0.7974</td>\n",
       "    </tr>\n",
       "  </tbody>\n",
       "</table>\n",
       "</div>"
      ],
      "text/plain": [
       "                    Model  Accuracy  Precision  Recall  F1-meas.\n",
       "0     Logistic Regression    0.7736     0.7719  0.7719    0.7719\n",
       "1             Naive Bayes    0.7463     0.7573  0.7573    0.7573\n",
       "2  Support Vector Machine    0.7747     0.7828  0.7828    0.7828\n",
       "3      K-Nearest Neighbor    0.6988     0.6916  0.6916    0.6916\n",
       "4           Decision Tree    0.6911     0.6953  0.6953    0.6953\n",
       "5           Random Forest    0.7696     0.7974  0.7974    0.7974"
      ]
     },
     "execution_count": 30,
     "metadata": {},
     "output_type": "execute_result"
    }
   ],
   "source": [
    "#Precision \n",
    "logm_precision = metrics.precision_score(y_test, pred_log, average='micro')\n",
    "nb_precision = metrics.precision_score(y_test, pred_nb, average='micro')\n",
    "svc_precision = metrics.precision_score(y_test, pred_svm, average='micro')\n",
    "knn_precision = metrics.precision_score(y_test, pred_knn, average='micro')\n",
    "dt_precision = metrics.precision_score(y_test, tree_pred, average='micro')\n",
    "rf_precision = metrics.precision_score(y_test, pred_rf, average='micro')\n",
    "\n",
    "#Recall \n",
    "logm_recall = metrics.recall_score(y_test, pred_log, average='micro')\n",
    "nb_recall = metrics.recall_score(y_test, pred_nb, average='micro')\n",
    "svc_recall = metrics.recall_score(y_test, pred_svm, average='micro')\n",
    "knn_recall = metrics.recall_score(y_test, pred_knn, average='micro')\n",
    "dt_recall = metrics.recall_score(y_test, tree_pred, average='micro')\n",
    "rf_recall = metrics.recall_score(y_test, pred_rf, average='micro')\n",
    "\n",
    "#F1-measure\n",
    "logm_f1 = metrics.fbeta_score(y_test, pred_log, beta=1.0, average='micro')\n",
    "nb_f1 = metrics.fbeta_score(y_test, pred_nb, beta=1.0, average='micro')\n",
    "svc_f1 = metrics.fbeta_score(y_test, pred_svm, beta=1.0, average='micro')\n",
    "knn_f1 = metrics.fbeta_score(y_test, pred_knn, beta=1.0, average='micro')\n",
    "dt_f1 = metrics.fbeta_score(y_test, tree_pred, beta=1.0, average='micro')\n",
    "rf_f1 = metrics.fbeta_score(y_test, pred_rf, beta=1.0, average='micro')\n",
    "\n",
    "#compare models accross classification metrics\n",
    "Model_Comparison = pd.DataFrame({\n",
    "    'Model': ['Logistic Regression', 'Naive Bayes', 'Support Vector Machine', 'K-Nearest Neighbor', \n",
    "              'Decision Tree', 'Random Forest'],\n",
    "    'Accuracy': [log_mean, nb_mean, svm_mean, knn_mean, tree_mean, rf_mean],\n",
    "    'Precision': [logm_precision,nb_precision, svc_precision, knn_precision, dt_precision, rf_precision],\n",
    "    'Recall': [logm_recall, nb_recall, svc_recall, knn_recall, dt_recall, rf_recall],\n",
    "    'F1-meas.': [logm_f1, nb_f1, svc_f1, knn_f1, dt_f1, rf_f1]})\n",
    "Model_Comparison.round(4)"
   ]
  },
  {
   "cell_type": "code",
   "execution_count": 35,
   "id": "21606f9f-45c0-4223-8569-93a140134478",
   "metadata": {},
   "outputs": [
    {
     "data": {
      "image/png": "[encoded data removed]",
      "text/plain": [
       "<Figure size 432x288 with 2 Axes>"
      ]
     },
     "metadata": {
      "needs_background": "light"
     },
     "output_type": "display_data"
    }
   ],
   "source": [
    "from sklearn.metrics import confusion_matrix\n",
    "import numpy as np\n",
    "\n",
    "conf_mat = confusion_matrix(y_test, pred_svm)\n",
    "ax = sns.heatmap(conf_mat/np.sum(conf_mat), annot=True, fmt='.2%', cmap='Blues')\n",
    "ax.xaxis.set_ticklabels(['bad', 'good', 'neutral'])\n",
    "ax.yaxis.set_ticklabels(['bad', 'good', 'neutral'])\n",
    "plt.show()\n"
   ]
  },
  {
   "cell_type": "code",
   "execution_count": 14,
   "id": "818e458e-7dd6-4d16-ae2a-b60fc6e3271f",
   "metadata": {},
   "outputs": [],
   "source": [
    "import pickle \n",
    "\n",
    "svmFile = open('svm_final.pckl', 'wb')\n",
    "pickle.dump(svm_mod, svmFile)\n",
    "svmFile.close()"
   ]
  },
  {
   "cell_type": "code",
   "execution_count": 13,
   "id": "10903f2a-e6df-4316-8838-5deaf038dc4c",
   "metadata": {},
   "outputs": [
    {
     "data": {
      "text/plain": [
       "array(['bad'], dtype=object)"
      ]
     },
     "execution_count": 13,
     "metadata": {},
     "output_type": "execute_result"
    }
   ],
   "source": [
    "text = '''Всё что было интересно в первых фильмах о Пауке в данной трилогии - выпилили. Нет-нет! Блюдо всё то же, только подано оно под каким-то пресным соусом. Создатели те же, но больше нет интересных диалогов, нет колоритных злодеев и нет комичных ситуаций, в которые попадал бы главный герой, а сам сценарий деградировал до уровня 'и так сойдет'.\n",
    "\n",
    "Суетливая болтовня Питера Паркера в первых фильмах забавляла, потому что это был подросток, который вел себя соответствующе - как ребенок. Но в данном творении эта особенность уже порядком раздражала. Главный герой не меняется от слова 'совсем', хотя пережил уже больше чем любой другой человек за всю жизнь. А еще актер изрядно возмужал, от чего всё это бросается в глаза еще сильнее.'''\n",
    "\n",
    "new_text = preprocess_text(text)\n",
    "svm_mod.predict([new_text])"
   ]
  },
  {
   "cell_type": "code",
   "execution_count": null,
   "id": "2433098e-e89a-41b2-9af1-cdec4d3ff3cf",
   "metadata": {},
   "outputs": [],
   "source": []
  }
 ],
 "metadata": {
  "kernelspec": {
   "display_name": "Python 3",
   "language": "python",
   "name": "python3"
  },
  "language_info": {
   "codemirror_mode": {
    "name": "ipython",
    "version": 3
   },
   "file_extension": ".py",
   "mimetype": "text/x-python",
   "name": "python",
   "nbconvert_exporter": "python",
   "pygments_lexer": "ipython3",
   "version": "3.9.2"
  }
 },
 "nbformat": 4,
 "nbformat_minor": 5
}
