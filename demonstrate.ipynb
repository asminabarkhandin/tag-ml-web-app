{
 "cells": [
  {
   "cell_type": "code",
   "execution_count": 1,
   "id": "90a6daba-2595-4530-bb68-f3c6c565982b",
   "metadata": {},
   "outputs": [],
   "source": [
    "from models import load_model, MyClassifier"
   ]
  },
  {
   "cell_type": "code",
   "execution_count": 2,
   "id": "e1efca7a-a86f-4e64-8107-f608962011ef",
   "metadata": {},
   "outputs": [
    {
     "data": {
      "text/plain": [
       "(array(['bad'], dtype=object), array([0.84448694, 0.00303726, 0.1524758 ]))"
      ]
     },
     "execution_count": 2,
     "metadata": {},
     "output_type": "execute_result"
    }
   ],
   "source": [
    "#import pickle\n",
    "model = load_model('svm_final.pckl')\n",
    "\n",
    "\n",
    "classifier = MyClassifier(model)\n",
    "\n",
    "text = 'я люблю этот фильм но в конце концовку слили в целом не люблю автора'\n",
    "classifier.make_prediction(text)"
   ]
  },
  {
   "cell_type": "code",
   "execution_count": 3,
   "id": "cc7957e4-c385-400e-aecf-234c8deee237",
   "metadata": {},
   "outputs": [
    {
     "data": {
      "text/plain": [
       "Pipeline(steps=[('tfidfvectorizer', TfidfVectorizer()),\n",
       "                ('svc', SVC(kernel='linear', probability=True))])"
      ]
     },
     "execution_count": 3,
     "metadata": {},
     "output_type": "execute_result"
    }
   ],
   "source": [
    "model"
   ]
  },
  {
   "cell_type": "code",
   "execution_count": 4,
   "id": "d4762958-18d3-45e5-aee2-52de44aa3112",
   "metadata": {},
   "outputs": [
    {
     "data": {
      "text/plain": [
       "(array(['bad'], dtype=object), array([0.93729973, 0.00763472, 0.05506555]))"
      ]
     },
     "execution_count": 4,
     "metadata": {},
     "output_type": "execute_result"
    }
   ],
   "source": [
    "text = '''Всё что было интересно в первых фильмах о Пауке в данной трилогии - выпилили. Нет-нет! Блюдо всё то же, только подано оно под каким-то пресным соусом. Создатели те же, но больше нет интересных диалогов, нет колоритных злодеев и нет комичных ситуаций, в которые попадал бы главный герой, а сам сценарий деградировал до уровня 'и так сойдет'.\n",
    "\n",
    "Суетливая болтовня Питера Паркера в первых фильмах забавляла, потому что это был подросток, который вел себя соответствующе - как ребенок. Но в данном творении эта особенность уже порядком раздражала. Главный герой не меняется от слова 'совсем', хотя пережил уже больше чем любой другой человек за всю жизнь. А еще актер изрядно возмужал, от чего всё это бросается в глаза еще сильнее.'''\n",
    "\n",
    "classifier.make_prediction(text)"
   ]
  },
  {
   "cell_type": "code",
   "execution_count": null,
   "id": "751dc1ed-622f-4685-88c1-6f1651a7c254",
   "metadata": {},
   "outputs": [],
   "source": []
  },
  {
   "cell_type": "code",
   "execution_count": null,
   "id": "820fa08f-2c56-4c61-add7-a56489ba47b3",
   "metadata": {},
   "outputs": [],
   "source": []
  },
  {
   "cell_type": "code",
   "execution_count": null,
   "id": "e26d7062-8d52-465d-bff6-764680005102",
   "metadata": {},
   "outputs": [],
   "source": []
  }
 ],
 "metadata": {
  "kernelspec": {
   "display_name": "Python 3",
   "language": "python",
   "name": "python3"
  },
  "language_info": {
   "codemirror_mode": {
    "name": "ipython",
    "version": 3
   },
   "file_extension": ".py",
   "mimetype": "text/x-python",
   "name": "python",
   "nbconvert_exporter": "python",
   "pygments_lexer": "ipython3",
   "version": "3.9.2"
  }
 },
 "nbformat": 4,
 "nbformat_minor": 5
}
